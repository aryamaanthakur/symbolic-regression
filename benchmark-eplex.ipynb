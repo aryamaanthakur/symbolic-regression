{
 "cells": [
  {
   "cell_type": "code",
   "execution_count": 1,
   "metadata": {},
   "outputs": [
    {
     "ename": "ModuleNotFoundError",
     "evalue": "No module named 'ellyn'",
     "output_type": "error",
     "traceback": [
      "\u001b[0;31m---------------------------------------------------------------------------\u001b[0m",
      "\u001b[0;31mModuleNotFoundError\u001b[0m                       Traceback (most recent call last)",
      "Cell \u001b[0;32mIn[1], line 4\u001b[0m\n\u001b[1;32m      2\u001b[0m \u001b[38;5;28;01mimport\u001b[39;00m \u001b[38;5;21;01mpandas\u001b[39;00m \u001b[38;5;28;01mas\u001b[39;00m \u001b[38;5;21;01mpd\u001b[39;00m\n\u001b[1;32m      3\u001b[0m \u001b[38;5;28;01mimport\u001b[39;00m \u001b[38;5;21;01mnumpy\u001b[39;00m \u001b[38;5;28;01mas\u001b[39;00m \u001b[38;5;21;01mnp\u001b[39;00m\n\u001b[0;32m----> 4\u001b[0m \u001b[38;5;28;01mfrom\u001b[39;00m \u001b[38;5;21;01malgorithms\u001b[39;00m\u001b[38;5;21;01m.\u001b[39;00m\u001b[38;5;21;01mgp\u001b[39;00m\u001b[38;5;21;01m.\u001b[39;00m\u001b[38;5;21;01meplex\u001b[39;00m \u001b[38;5;28;01mimport\u001b[39;00m EplexConfig, EplexRegressor\n\u001b[1;32m      5\u001b[0m \u001b[38;5;28;01mfrom\u001b[39;00m \u001b[38;5;21;01mpprint\u001b[39;00m \u001b[38;5;28;01mimport\u001b[39;00m pprint\n",
      "File \u001b[0;32m~/Documents/GSoC/symbolic-regression/algorithms/gp/eplex.py:6\u001b[0m\n\u001b[1;32m      4\u001b[0m \u001b[38;5;28;01mfrom\u001b[39;00m \u001b[38;5;21;01mtyping\u001b[39;00m \u001b[38;5;28;01mimport\u001b[39;00m Optional\n\u001b[1;32m      5\u001b[0m \u001b[38;5;28;01mfrom\u001b[39;00m \u001b[38;5;21;01msympy\u001b[39;00m \u001b[38;5;28;01mimport\u001b[39;00m sympify\n\u001b[0;32m----> 6\u001b[0m \u001b[38;5;28;01mfrom\u001b[39;00m \u001b[38;5;21;01mellyn\u001b[39;00m \u001b[38;5;28;01mimport\u001b[39;00m ellyn\n\u001b[1;32m      8\u001b[0m \u001b[38;5;129m@dataclass\u001b[39m\n\u001b[1;32m      9\u001b[0m \u001b[38;5;28;01mclass\u001b[39;00m \u001b[38;5;21;01mEplexConfig\u001b[39;00m:\n\u001b[1;32m     10\u001b[0m     selection: Optional[\u001b[38;5;28mstr\u001b[39m] \u001b[38;5;241m=\u001b[39m field(default\u001b[38;5;241m=\u001b[39m\u001b[38;5;124m'\u001b[39m\u001b[38;5;124mepsilon_lexicase\u001b[39m\u001b[38;5;124m'\u001b[39m)\n",
      "\u001b[0;31mModuleNotFoundError\u001b[0m: No module named 'ellyn'"
     ]
    }
   ],
   "source": [
    "import os\n",
    "import pandas as pd\n",
    "import numpy as np\n",
    "from algorithms.gp.eplex import EplexConfig, EplexRegressor\n",
    "from pprint import pprint"
   ]
  },
  {
   "cell_type": "code",
   "execution_count": null,
   "metadata": {},
   "outputs": [
    {
     "name": "stdout",
     "output_type": "stream",
     "text": [
      "GpGomeaConfig(t=3600, g=-1, e=499500, finetune_max_evals=500, finetune=True, tour=4, d=4, pop=1024, disable_ims=True, feat_sel=20, no_univ_exc_leaves_fos=False, no_large_fos=True, bs=100, fset='+,-,*,/,log,sqrt,sin,cos', cmp=0.0, rci=0.0, verbose=False, random_state=0)\n"
     ]
    }
   ],
   "source": [
    "config = EplexConfig()\n",
    "pprint(config)"
   ]
  },
  {
   "cell_type": "code",
   "execution_count": 3,
   "metadata": {},
   "outputs": [],
   "source": [
    "train_df = pd.read_csv(\"dataset/train_df.csv\", index_col=0)\n",
    "sampled_df = train_df.groupby('number').apply(lambda x: x.sample(1, random_state=42)).reset_index(drop=True)\n",
    "sampled_df[\"path\"] = sampled_df.apply(lambda row:os.path.join(row[\"filename\"], f\"{row['data_num']}.npy\"), axis=1)"
   ]
  },
  {
   "cell_type": "code",
   "execution_count": 4,
   "metadata": {},
   "outputs": [
    {
     "data": {
      "text/html": [
       "<div>\n",
       "<style scoped>\n",
       "    .dataframe tbody tr th:only-of-type {\n",
       "        vertical-align: middle;\n",
       "    }\n",
       "\n",
       "    .dataframe tbody tr th {\n",
       "        vertical-align: top;\n",
       "    }\n",
       "\n",
       "    .dataframe thead th {\n",
       "        text-align: right;\n",
       "    }\n",
       "</style>\n",
       "<table border=\"1\" class=\"dataframe\">\n",
       "  <thead>\n",
       "    <tr style=\"text-align: right;\">\n",
       "      <th></th>\n",
       "      <th>filename</th>\n",
       "      <th>data_num</th>\n",
       "      <th>number</th>\n",
       "      <th>path</th>\n",
       "    </tr>\n",
       "  </thead>\n",
       "  <tbody>\n",
       "    <tr>\n",
       "      <th>0</th>\n",
       "      <td>I.6.2a</td>\n",
       "      <td>83</td>\n",
       "      <td>1</td>\n",
       "      <td>I.6.2a/83.npy</td>\n",
       "    </tr>\n",
       "    <tr>\n",
       "      <th>1</th>\n",
       "      <td>I.6.2</td>\n",
       "      <td>83</td>\n",
       "      <td>2</td>\n",
       "      <td>I.6.2/83.npy</td>\n",
       "    </tr>\n",
       "    <tr>\n",
       "      <th>2</th>\n",
       "      <td>I.6.2b</td>\n",
       "      <td>83</td>\n",
       "      <td>3</td>\n",
       "      <td>I.6.2b/83.npy</td>\n",
       "    </tr>\n",
       "    <tr>\n",
       "      <th>3</th>\n",
       "      <td>I.8.14</td>\n",
       "      <td>83</td>\n",
       "      <td>4</td>\n",
       "      <td>I.8.14/83.npy</td>\n",
       "    </tr>\n",
       "    <tr>\n",
       "      <th>4</th>\n",
       "      <td>I.9.18</td>\n",
       "      <td>83</td>\n",
       "      <td>5</td>\n",
       "      <td>I.9.18/83.npy</td>\n",
       "    </tr>\n",
       "  </tbody>\n",
       "</table>\n",
       "</div>"
      ],
      "text/plain": [
       "  filename  data_num  number           path\n",
       "0   I.6.2a        83       1  I.6.2a/83.npy\n",
       "1    I.6.2        83       2   I.6.2/83.npy\n",
       "2   I.6.2b        83       3  I.6.2b/83.npy\n",
       "3   I.8.14        83       4  I.8.14/83.npy\n",
       "4   I.9.18        83       5  I.9.18/83.npy"
      ]
     },
     "execution_count": 4,
     "metadata": {},
     "output_type": "execute_result"
    }
   ],
   "source": [
    "sampled_df.head()"
   ]
  },
  {
   "cell_type": "code",
   "execution_count": 5,
   "metadata": {},
   "outputs": [
    {
     "name": "stdout",
     "output_type": "stream",
     "text": [
      "[!] Warning: failed to evaluate sympy model, returning NaN as prediction\n",
      "[!] Warning: failed to evaluate sympy model, returning NaN as prediction\n",
      "[!] Warning: failed to evaluate sympy model, returning NaN as prediction\n",
      "[!] Warning: failed to evaluate sympy model, returning NaN as prediction\n",
      "[!] Warning: failed to evaluate sympy model, returning NaN as prediction\n",
      "[!] Warning: failed to evaluate sympy model, returning NaN as prediction\n",
      "[!] Warning: failed to evaluate sympy model, returning NaN as prediction\n",
      "[!] Warning: failed to evaluate sympy model, returning NaN as prediction\n",
      "[!] Warning: failed to evaluate sympy model, returning NaN as prediction\n",
      "[!] Warning: failed to evaluate sympy model, returning NaN as prediction\n",
      "[!] Warning: failed to evaluate sympy model, returning NaN as prediction\n",
      "[!] Warning: failed to evaluate sympy model, returning NaN as prediction\n",
      "[!] Warning: failed to evaluate sympy model, returning NaN as prediction\n",
      "[!] Warning: failed to evaluate sympy model, returning NaN as prediction\n",
      "[!] Warning: failed to evaluate sympy model, returning NaN as prediction\n",
      "0 0.0790617\n",
      "1 -0.0636908188462257 + (0.0898348242044449*x_0 + 0.210512861609459 + 0.317851394414902/x_0)/(x_0 + x_1**2/x_0**2)\n",
      "2 -0.0859353691339493 + (0.0913130939006805*x_0 + 0.384801775217056)*cos((0.767461121082306*x_1 - 0.76799213886261*x_2)/x_0)/x_0\n",
      "3 0.198126062750816*(x_0 - x_1)**2 + 0.199752911925316*(x_2 - x_3)**2 - 0.396846324205399*cos(x_0 - x_1)*cos(x_2 - x_3) + 1.04219973087311\n",
      "4 0.354746073484421*x_0*x_1*x_2*(x_4 + x_6)*(x_8 - cos(x_3) + 1.00802457332611)/(x_3*x_5*x_7) - 0.00661400007084012\n",
      "5 -0.977821409702301*x_0*x_1/((4.14405488967896 + x_2/x_1)*(x_1 - x_2)) + 0.993877053260803*x_0 - 0.00010473579459358\n",
      "6 0.999999582767487*x_0*x_3 + 1.00000023841858*x_1*x_4 + 1.00000023841858*x_2*x_5 - 1.98388306671404e-6\n",
      "7 1.0*x_0*x_1\n",
      "8 0.352261632680893*x_0*x_1*(x_1 - x_2) + 0.184230580925941*x_0*x_3**2 + 0.337708055973053*x_0*(x_1 + x_2)*(x_2 + x_3) + 1.56818103790283\n",
      "9 0.0795722827315331*x_0*x_1/(x_2*x_3**2)\n",
      "10 0.0795759409666061*x_0/(x_1*x_2**2)\n",
      "11 1.0*x_0*x_1\n",
      "12 1.0*x_0*(x_1 + x_2*x_3*sin(x_4))\n",
      "13 1.0*x_0*x_1*x_4*(x_2 - x_3)/(x_2*x_3)\n",
      "14 0.999999940395355*x_0*x_1*x_2 + 2.6315901777707e-6\n",
      "15 0.5*x_0*x_1**2\n",
      "16 0.996080458164215*x_0 - 1.0071884393692*x_1*x_3 + 0.0611306615173817 - (0.986687242984772*x_0/x_2 - 2.72659373283386/x_0)/(x_2*(x_1 - 2.46304512023926))\n",
      "17 0.991476655006409*x_3 + 0.049724530428648 - 0.914913177490234*x_2*(x_0 - x_3)/(x_1*(x_1 - x_2 + 1)) + (0.433890670537949*x_2 - 0.966441035270691)/x_1\n",
      "18 (1.0028760433197*x_0*x_1 - 0.22090257704258*x_1/x_2 + 1.33869969844818)/cos(x_1/x_2) - 1.3349221944809\n",
      "19 -0.277293652296066*x_0*(x_0 - x_1)*(x_0 - x_2)/(x_0 + x_1) + 1.01584255695343*x_0 - 0.0476634576916695\n",
      "20 0.0860798507928848*x_0*x_2 - 0.0862106084823608*x_0*x_3 - 0.0860779136419296*x_1*x_2 + 0.0860045701265335*x_1*x_3 + 0.500021159648895*x_2 + 0.500996708869934*x_3 - 0.000634945521596819\n",
      "21 1.0*x_0*x_1*sin(x_2)\n",
      "22 1.0*x_0*x_1*x_2*sin(x_3)\n",
      "23 0.231526896357536*x_0*(0.0445196256041527*x_1 + x_3**2)*(x_1**2 + x_2**2 - sin(x_2) + 1.4081666469574) - 0.313112020492554\n",
      "24 1.00000369548798*x_0/x_1\n",
      "25 0.964248538017273*x_0*cos(x_1 + 4.71148204803467)/cos(0.769401252269745*x_0*sin(x_1)) - 0.000214505169424228\n",
      "26 1.00001168251038*x_0*x_1/(x_0*x_2 + x_1)\n",
      "27 1.0*x_0/x_1\n",
      "28 0.64146363735199*x_0 + 0.644967257976532*x_1 + (-0.174639821052551*x_0*x_1 + 0.0636704564094543*x_1 - 0.848651647567749)*cos(x_2 - x_3) + 0.27252608537674*cos(x_1) + 0.365364968776703\n",
      "29 0.302394866943359 + (1.33798003196716*cos(x_1*x_2) - 1.20765924453735)*(x_0 + cos(x_1) + 0.0128487544134259)/(cos(x_1) - 1.27846872806549)\n",
      "30 -4.52009439468384*x_2/(0.20590777695179*x_0/(x_1 - 0.0155450003221631) - x_2) - 4.51498413085938\n",
      "31 0.0530516467988491*x_0**2*x_1**2/(x_2*x_3**3)\n",
      "32 0.880389392375946*x_1*x_2**2*x_3**2*x_4**2*(x_0*x_4 - cos(x_4))/(x_5*(x_4 - x_5)**2) - 0.0258971862494946\n",
      "33 1.0*x_0*x_1*x_2/x_3\n",
      "34 1.0*x_0*x_2/(x_0 - x_1)\n",
      "35 -0.0945973917841911 + (1.27234601974487*x_2 + 0.0897733122110367)/(1.2366429567337 - x_1/x_0)\n",
      "36 0.159154951572418*x_0*x_1\n"
     ]
    }
   ],
   "source": [
    "models = []\n",
    "\n",
    "for index, row in sampled_df.iterrows():\n",
    "    data = np.load(os.path.join(\"dataset\", row[\"path\"]))\n",
    "    X = data[:, :-1]\n",
    "    y = data[:, -1]\n",
    "    try:\n",
    "        regressor = GpGomeaRegressor(config)\n",
    "        model = regressor.predict_single(X, y)\n",
    "    except:\n",
    "        models.append(None)\n",
    "    print(index, model)\n",
    "    models.append(model)"
   ]
  },
  {
   "cell_type": "code",
   "execution_count": null,
   "metadata": {},
   "outputs": [
    {
     "data": {
      "text/latex": [
       "$\\displaystyle 0.280462 \\sin{\\left(\\frac{x_{0} - x_{1} + 0.97400236065843}{0.455061328615257 x_{0}^{3} + x_{1}} \\right)} + 0.06861$"
      ],
      "text/plain": [
       "0.280462*sin((x_0 - x_1 + 0.97400236065843)/(0.455061328615257*x_0**3 + x_1)) + 0.06861"
      ]
     },
     "execution_count": 15,
     "metadata": {},
     "output_type": "execute_result"
    }
   ],
   "source": [
    "models"
   ]
  },
  {
   "cell_type": "code",
   "execution_count": null,
   "metadata": {},
   "outputs": [],
   "source": [
    "import pickle\n",
    "\n",
    "data = {\"df\": sampled_df,\n",
    "        \"models\": models,\n",
    "        \"config\":config}\n",
    "\n",
    "with open('gpgomea_test.pkl', 'wb') as outp:\n",
    "    pickle.dump(data, outp, pickle.HIGHEST_PROTOCOL)"
   ]
  },
  {
   "cell_type": "code",
   "execution_count": null,
   "metadata": {},
   "outputs": [],
   "source": []
  }
 ],
 "metadata": {
  "kernelspec": {
   "display_name": "base",
   "language": "python",
   "name": "python3"
  },
  "language_info": {
   "codemirror_mode": {
    "name": "ipython",
    "version": 3
   },
   "file_extension": ".py",
   "mimetype": "text/x-python",
   "name": "python",
   "nbconvert_exporter": "python",
   "pygments_lexer": "ipython3",
   "version": "3.9.19"
  }
 },
 "nbformat": 4,
 "nbformat_minor": 2
}
