{
 "cells": [
  {
   "cell_type": "code",
   "execution_count": 6,
   "metadata": {},
   "outputs": [],
   "source": [
    "import os\n",
    "\n",
    "import numpy as np\n",
    "import pandas as pd\n",
    "from tqdm import tqdm\n",
    "from pprint import pprint\n",
    "\n",
    "from algorithms.gp.gplearn import GpLearnConfig, GpLearnRegressor"
   ]
  },
  {
   "cell_type": "code",
   "execution_count": 7,
   "metadata": {},
   "outputs": [
    {
     "name": "stdout",
     "output_type": "stream",
     "text": [
      "GpLearnConfig(population_size=5000,\n",
      "              generations=20,\n",
      "              stopping_criteria=0.01,\n",
      "              p_crossover=0.7,\n",
      "              p_subtree_mutation=0.1,\n",
      "              p_hoist_mutation=0.1,\n",
      "              p_point_mutation=0.05,\n",
      "              max_samples=0.9,\n",
      "              verbose=0,\n",
      "              parsimony_coefficient=0.01,\n",
      "              function_set=['add',\n",
      "                            'sub',\n",
      "                            'mul',\n",
      "                            'div',\n",
      "                            'sqrt',\n",
      "                            'log',\n",
      "                            'neg',\n",
      "                            'inv',\n",
      "                            'sin',\n",
      "                            'cos',\n",
      "                            'tan'],\n",
      "              random_state=42)\n"
     ]
    }
   ],
   "source": [
    "config = GpLearnConfig(verbose=0)\n",
    "pprint(config)"
   ]
  },
  {
   "cell_type": "code",
   "execution_count": 8,
   "metadata": {},
   "outputs": [
    {
     "name": "stderr",
     "output_type": "stream",
     "text": [
      "/tmp/ipykernel_38487/3910406797.py:2: DeprecationWarning: DataFrameGroupBy.apply operated on the grouping columns. This behavior is deprecated, and in a future version of pandas the grouping columns will be excluded from the operation. Either pass `include_groups=False` to exclude the groupings or explicitly select the grouping columns after groupby to silence this warning.\n",
      "  sampled_df = train_df.groupby('number').apply(lambda x: x.sample(1, random_state=42)).reset_index(drop=True)\n"
     ]
    },
    {
     "data": {
      "text/html": [
       "<div>\n",
       "<style scoped>\n",
       "    .dataframe tbody tr th:only-of-type {\n",
       "        vertical-align: middle;\n",
       "    }\n",
       "\n",
       "    .dataframe tbody tr th {\n",
       "        vertical-align: top;\n",
       "    }\n",
       "\n",
       "    .dataframe thead th {\n",
       "        text-align: right;\n",
       "    }\n",
       "</style>\n",
       "<table border=\"1\" class=\"dataframe\">\n",
       "  <thead>\n",
       "    <tr style=\"text-align: right;\">\n",
       "      <th></th>\n",
       "      <th>filename</th>\n",
       "      <th>data_num</th>\n",
       "      <th>number</th>\n",
       "      <th>path</th>\n",
       "    </tr>\n",
       "  </thead>\n",
       "  <tbody>\n",
       "    <tr>\n",
       "      <th>0</th>\n",
       "      <td>I.6.2a</td>\n",
       "      <td>83</td>\n",
       "      <td>1</td>\n",
       "      <td>I.6.2a/83.npy</td>\n",
       "    </tr>\n",
       "    <tr>\n",
       "      <th>1</th>\n",
       "      <td>I.6.2</td>\n",
       "      <td>83</td>\n",
       "      <td>2</td>\n",
       "      <td>I.6.2/83.npy</td>\n",
       "    </tr>\n",
       "    <tr>\n",
       "      <th>2</th>\n",
       "      <td>I.6.2b</td>\n",
       "      <td>83</td>\n",
       "      <td>3</td>\n",
       "      <td>I.6.2b/83.npy</td>\n",
       "    </tr>\n",
       "    <tr>\n",
       "      <th>3</th>\n",
       "      <td>I.8.14</td>\n",
       "      <td>83</td>\n",
       "      <td>4</td>\n",
       "      <td>I.8.14/83.npy</td>\n",
       "    </tr>\n",
       "    <tr>\n",
       "      <th>4</th>\n",
       "      <td>I.9.18</td>\n",
       "      <td>83</td>\n",
       "      <td>5</td>\n",
       "      <td>I.9.18/83.npy</td>\n",
       "    </tr>\n",
       "  </tbody>\n",
       "</table>\n",
       "</div>"
      ],
      "text/plain": [
       "  filename  data_num  number           path\n",
       "0   I.6.2a        83       1  I.6.2a/83.npy\n",
       "1    I.6.2        83       2   I.6.2/83.npy\n",
       "2   I.6.2b        83       3  I.6.2b/83.npy\n",
       "3   I.8.14        83       4  I.8.14/83.npy\n",
       "4   I.9.18        83       5  I.9.18/83.npy"
      ]
     },
     "execution_count": 8,
     "metadata": {},
     "output_type": "execute_result"
    }
   ],
   "source": [
    "train_df = pd.read_csv(\"dataset/train_df.csv\", index_col=0)\n",
    "sampled_df = train_df.groupby('number').apply(lambda x: x.sample(1, random_state=42)).reset_index(drop=True)\n",
    "sampled_df[\"path\"] = sampled_df.apply(lambda row:os.path.join(row[\"filename\"], f\"{row['data_num']}.npy\"), axis=1)\n",
    "sampled_df.head()"
   ]
  },
  {
   "cell_type": "code",
   "execution_count": 9,
   "metadata": {},
   "outputs": [
    {
     "name": "stderr",
     "output_type": "stream",
     "text": [
      "100%|██████████| 100/100 [2:11:18<00:00, 78.79s/it] \n"
     ]
    }
   ],
   "source": [
    "models = []\n",
    "\n",
    "for index, row in tqdm(sampled_df.iterrows(), total=len(sampled_df)):\n",
    "    data = np.load(os.path.join(\"dataset\", row[\"path\"]))\n",
    "    X = data[:, :-1]\n",
    "    y = data[:, -1]\n",
    "\n",
    "    try:\n",
    "        regressor = GpLearnRegressor(config)\n",
    "        model = regressor.predict_single(X, y)\n",
    "    except:\n",
    "        model = None\n",
    "\n",
    "    models.append(model)\n"
   ]
  },
  {
   "cell_type": "code",
   "execution_count": 12,
   "metadata": {},
   "outputs": [
    {
     "data": {
      "text/plain": [
       "[0.0500000000000000,\n",
       " 0.112000000000000,\n",
       " 0.354/X0,\n",
       " (X0 - X1)**0.5 + (-X2 + X3)**0.5,\n",
       " 1/(X5 + 0.371),\n",
       " X0 + 0.08,\n",
       " X0*X2 + X1*X4 + X3*X5,\n",
       " X0*X1,\n",
       " 2*X2 + 1.43322017675038*(X0**2*X1)**0.5*(X2 + X3) + log(X1 - X2) + log(cos(X1**0.5)) + cos(X2) - 2*tan(sin(X3)) - 1.11730529287029*I,\n",
       " 0.0310000000000000,\n",
       " tan(0.104/(X1*X2)),\n",
       " X0*X1,\n",
       " X0*X1 + X0*X2*X3*sin(X4),\n",
       " X0*X1*X4*(X2 - X3)/(X2*X3),\n",
       " X0*X1*X2,\n",
       " 2.04081632653061*X0*X1*log(X1) - X0*X1 + X0/X1 + log(X0) + cos(log(X1)**0.5),\n",
       " X0 - X3 + cos(X1) - 0.658,\n",
       " X3,\n",
       " X0*X1 + 1/X2,\n",
       " X0,\n",
       " (X2*X3)**0.5,\n",
       " X0*X1*sin(X2),\n",
       " X0*X1*X2*sin(X3),\n",
       " 2.09168530845762*X0*X3*(-X1*X3*(X2 - 0.175) + X2 + sin((-X2*X3*(X2 - 0.175) + X2 + cos(X2))**0.5))**0.5,\n",
       " X0/X1,\n",
       " sin(X1)*tan(sin(X0)),\n",
       " X1/(X2 + X1/X0),\n",
       " X0/X1,\n",
       " 1.76991150442478*((X1 + tan(log(0.648640115686581*X0)))*(-X2 + X3))**0.5,\n",
       " 2*X0/X1,\n",
       " tan(X0/(X1*X2)),\n",
       " 1/(X2*X3),\n",
       " X3**0.5*(X4 + sin(X5))*(X0*tan((X2 + X4 - X5**0.5)**0.5) + sin(X5))*log(X3*X4),\n",
       " X0*X1*X2/X3,\n",
       " X2 + (X1*X2 + X1**2*(X2 + X1*(X2 + X1**2*X2/X0)/X0)/X0)/X0,\n",
       " X2 + X1*(X2 + (X2 + X1*(X2 + X2/X0)/X0)/X0)/X0,\n",
       " 0.15931*X0*X1,\n",
       " (X0*X1*tan(X2)**0.5)**0.5 + sin(log(tan(X2))) + cos(X2),\n",
       " X2**2*log(X3)/(X0*X1**2),\n",
       " 1.499446686127*X0*X1,\n",
       " -0.538*X2 + sin(sin(X1)) + 2*X1*X2/X0 + 1/X0,\n",
       " X0*X1*X3/X2,\n",
       " X3/(X1*X2*X4**0.5),\n",
       " X1*(X0/X4 - sin(sin(sin(1/X4))))*log(X0)*log(X3)/X4,\n",
       " X0*X1*X2/X3,\n",
       " X0*X1*X2,\n",
       " X1*(X3 + (X3 + (X3 + (X3 + (X3**0.5 + X3)/X0)/X0)/X0)/X0)/(X0*X2),\n",
       " X0*X2*(-X3 + X4)*log(X1 + 0.252245408634378),\n",
       " (X0*X1/X2)**0.5,\n",
       " X0*(X1 + X2**2 - 0.611/X1**2),\n",
       " log(X1) - cos(X2) - cos(X3),\n",
       " -X0*(X1 - X2),\n",
       " 0.0260000000000000,\n",
       " 0.0290000000000000,\n",
       " 0.0159993173420714*cos(X2)/X0**0.5,\n",
       " cos(X2**0.5)/X2**2,\n",
       " -0.00700000000000000,\n",
       " 0.0570000000000000,\n",
       " (X1**0.5*(X1**0.5 + X1)*(X1 - 0.163))**0.25*(X0*X1 - 0.912*X0),\n",
       " X0/(X1*(X2 + 1)),\n",
       " sin(1/(X2 + X3 + sin(X0))),\n",
       " (X0/X3**1.5 + X0*sin(X3))/X3,\n",
       " X1**2*X2*log(X0)/(X3*X4),\n",
       " X0*X2*X3*tan(X1),\n",
       " X0*tan(X1) + 0.999939500610039,\n",
       " sin(sin((0.0613766307851738 + I*pi)*log(X2)/(X1*X2))),\n",
       " X0 + 0.08,\n",
       " X0*X1 + 1/X2,\n",
       " -X0*X1*cos(X2),\n",
       " -X0*X1*cos(X2),\n",
       " 0.0410000000000000,\n",
       " X0/X1 - 0.219,\n",
       " X0*X1*X2**2,\n",
       " X0*X1**2,\n",
       " 0.157284*X0*X1/X2,\n",
       " X1*X2*log(X0 + 0.117)*log((X0 + (X0 + X1)**0.5)**0.5 + 1.37551581843191) + 1/X0,\n",
       " X1*X2*log(X0**1.5)/X3,\n",
       " sin(sin(log(X0)))/X2,\n",
       " 1.93326829017618*X0**0.5*X3*X4*(X2*(X0 + 3.10086836473021*(0.104*X0 - 1)**0.5)/X1 - 1.07991360691145*(-X0 + X4)/(X1*(X0*X2)**0.5*(X0 + sin(X0))*(X3 - 0.781))),\n",
       " log(X0*(X1 + X4))/(X3*X4),\n",
       " X0*(X1 - (X4 - X4/X3)/X2),\n",
       " X0/X3 + cos(X2) + 0.737,\n",
       " X0*(X1*X2 + X1),\n",
       " X0*X1*X3/X2,\n",
       " log(X0)/(X1**0.5 + X1/X0),\n",
       " 6.04400013370748*X2*X3/(X0*X1),\n",
       " X2*X3 - log(X1)**0.5 + 0.884/X0,\n",
       " -0.266*X0*X1 + 12.9234244778399*X0*X1/X2,\n",
       " 0.464000000000000,\n",
       " 2*X0**2*X1/X3 + X1*cos(X3/X4**0.5) + (2*X0*X1*X2**0.5 + 2*X0*cos(X3/X2**0.5) + 2*X0*cos(X4 - X5) + X0)*cos(X4 - X5),\n",
       " 0.2751*X0*(X1 + X2)**0.5 + 0.525*X0*(X1 + X2 + X3),\n",
       " 0.15931*X0*X1,\n",
       " 12.4362641462505*X0*X1**2*X2/X3 + 1.05708245243129*X1*X2/X3,\n",
       " -0.607*X1*X2*(X0*X1*X2/X4**0.5 - X3)/(X3*(-X4 + 1/X3) - 0.217687942446655) + 1.35135135135135,\n",
       " 2.04081632653061*X0,\n",
       " log(1.00476067224169*I),\n",
       " X0/X2 + (X0 + X0*(sin(X2) + tan(sin(X1)) + 1/X2)/X2)/X1,\n",
       " X0*X1*cos(X2) + X0,\n",
       " -0.0440000000000000,\n",
       " -X0*X1*X2/X3]"
      ]
     },
     "execution_count": 12,
     "metadata": {},
     "output_type": "execute_result"
    }
   ],
   "source": [
    "models"
   ]
  },
  {
   "cell_type": "code",
   "execution_count": 13,
   "metadata": {},
   "outputs": [],
   "source": [
    "import pickle\n",
    "\n",
    "data = {\"df\": sampled_df,\n",
    "        \"models\": models,\n",
    "        \"config\":config}\n",
    "\n",
    "with open('gplearn_test.pkl', 'wb') as outp:\n",
    "    pickle.dump(data, outp, pickle.HIGHEST_PROTOCOL)"
   ]
  },
  {
   "cell_type": "code",
   "execution_count": null,
   "metadata": {},
   "outputs": [],
   "source": []
  }
 ],
 "metadata": {
  "kernelspec": {
   "display_name": "base",
   "language": "python",
   "name": "python3"
  },
  "language_info": {
   "codemirror_mode": {
    "name": "ipython",
    "version": 3
   },
   "file_extension": ".py",
   "mimetype": "text/x-python",
   "name": "python",
   "nbconvert_exporter": "python",
   "pygments_lexer": "ipython3",
   "version": "3.12.4"
  }
 },
 "nbformat": 4,
 "nbformat_minor": 2
}
