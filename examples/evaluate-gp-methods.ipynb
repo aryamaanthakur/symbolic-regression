{
 "cells": [
  {
   "cell_type": "code",
   "execution_count": 1,
   "metadata": {},
   "outputs": [],
   "source": [
    "import os\n",
    "import pandas as pd\n",
    "import numpy as np\n",
    "import pickle\n",
    "import sympy\n",
    "from algorithms.transformers.utils.sympy_prefix import sympy_to_prefix\n",
    "from metrics import CPScore"
   ]
  },
  {
   "cell_type": "code",
   "execution_count": 2,
   "metadata": {},
   "outputs": [],
   "source": [
    "original_dataset = pd.read_csv(\"FeynmanEquationsModified.csv\")"
   ]
  },
  {
   "cell_type": "code",
   "execution_count": 3,
   "metadata": {},
   "outputs": [],
   "source": [
    "operators = ['add', 'mul', 'pow', 'exp', 'ln', 'abs', 'sign',\n",
    "             'sin', 'cos', 'tan', 'cot', 'sec', 'csc', 'asin',\n",
    "             'acos', 'atan', 'acot', 'asec', 'acsc', 'sinh',\n",
    "             'cosh', 'tanh', 'coth', 'sech', 'csch', 'asinh',\n",
    "             'acosh', 'atanh', 'acoth', 'asech', 'acsch']\n",
    "\n",
    "def get_length(prefix):\n",
    "    N = 0\n",
    "    for token in prefix:\n",
    "        if token in operators:\n",
    "            N += 1\n",
    "    return N"
   ]
  },
  {
   "cell_type": "code",
   "execution_count": 4,
   "metadata": {},
   "outputs": [],
   "source": [
    "original_dataset[\"N0\"] = original_dataset.apply(lambda row: get_length(eval(row[\"prefix\"])), axis=1)"
   ]
  },
  {
   "cell_type": "code",
   "execution_count": 5,
   "metadata": {},
   "outputs": [],
   "source": [
    "cp_score = CPScore()"
   ]
  },
  {
   "cell_type": "markdown",
   "metadata": {},
   "source": [
    "# GP Learn"
   ]
  },
  {
   "cell_type": "code",
   "execution_count": 7,
   "metadata": {},
   "outputs": [
    {
     "name": "stdout",
     "output_type": "stream",
     "text": [
      "Average Performance: 0.6046402484470589\n",
      "Average Complexity: 0.18212548040331866\n",
      "Average CP Score: 0.42251476804374016\n"
     ]
    }
   ],
   "source": [
    "with open(\"gplearn_test2.pkl\", \"rb\") as f:\n",
    "    test_data = pickle.load(f)\n",
    "\n",
    "results = []\n",
    "\n",
    "for index, row in test_data[\"df\"].iterrows():\n",
    "    model = test_data[\"models\"][index]\n",
    "    prefix_model = sympy_to_prefix(sympy.nsimplify(model))\n",
    "    N = get_length(prefix_model)\n",
    "    N0 = original_dataset[\"N0\"][index]\n",
    "    \n",
    "    y_pred = np.load(f\"gplearn/{index}.npy\", allow_pickle=True)\n",
    "    data = np.load(os.path.join(\"dataset\", row[\"path\"]))\n",
    "    y_true = data[:, -1]\n",
    "\n",
    "    result = {\"filename\": row[\"filename\"],\n",
    "              \"number\": row[\"number\"],\n",
    "              \"formula\": original_dataset[\"Formula\"][index],\n",
    "              \"performance_score\": cp_score.performance_score(y_true, y_pred),\n",
    "              \"complexity_score\": cp_score.complexity_score(N, N0),\n",
    "              \"cp_score\": cp_score(y_true, y_pred, N, N0)}\n",
    "    results.append(result)\n",
    "\n",
    "df = pd.DataFrame(results)\n",
    "print(\"Average Performance:\", df[\"performance_score\"].mean())\n",
    "print(\"Average Complexity:\", df[\"complexity_score\"].mean())\n",
    "print(\"Average CP Score:\", df[\"cp_score\"].mean())"
   ]
  },
  {
   "cell_type": "markdown",
   "metadata": {},
   "source": [
    "# GP GOMEA"
   ]
  },
  {
   "cell_type": "code",
   "execution_count": 8,
   "metadata": {},
   "outputs": [
    {
     "name": "stdout",
     "output_type": "stream",
     "text": [
      "Average Performance: 0.9859703539048751\n",
      "Average Complexity: 0.34898260219667354\n",
      "Average CP Score: 0.6369877517082014\n"
     ]
    }
   ],
   "source": [
    "with open(\"gpgomea_test2.pkl\", \"rb\") as f:\n",
    "    test_data = pickle.load(f)\n",
    "\n",
    "results = []\n",
    "\n",
    "for index, row in test_data[\"df\"].iterrows():\n",
    "    model = test_data[\"models\"][index]\n",
    "    prefix_model = sympy_to_prefix(sympy.nsimplify(model))\n",
    "    N = get_length(prefix_model)\n",
    "    N0 = original_dataset[\"N0\"][index]\n",
    "    \n",
    "    y_pred = np.load(f\"gpg/{index}.npy\", allow_pickle=True)\n",
    "    data = np.load(os.path.join(\"dataset\", row[\"path\"]))\n",
    "    y_true = data[:, -1]\n",
    "\n",
    "    result = {\"filename\": row[\"filename\"],\n",
    "              \"number\": row[\"number\"],\n",
    "              \"formula\": original_dataset[\"Formula\"][index],\n",
    "              \"performance_score\": cp_score.performance_score(y_true, y_pred),\n",
    "              \"complexity_score\": cp_score.complexity_score(N, N0),\n",
    "              \"cp_score\": cp_score(y_true, y_pred, N, N0)}\n",
    "    results.append(result)\n",
    "\n",
    "df = pd.DataFrame(results)\n",
    "print(\"Average Performance:\", df[\"performance_score\"].mean())\n",
    "print(\"Average Complexity:\", df[\"complexity_score\"].mean())\n",
    "print(\"Average CP Score:\", df[\"cp_score\"].mean())"
   ]
  },
  {
   "cell_type": "markdown",
   "metadata": {},
   "source": [
    "# Eplex"
   ]
  },
  {
   "cell_type": "code",
   "execution_count": 9,
   "metadata": {},
   "outputs": [
    {
     "name": "stdout",
     "output_type": "stream",
     "text": [
      "Average Performance: 0.8920682529935853\n",
      "Average Complexity: 0.5290068275023283\n",
      "Average CP Score: 0.3630614254912568\n"
     ]
    }
   ],
   "source": [
    "with open(\"eplex_test2.pkl\", \"rb\") as f:\n",
    "    test_data = pickle.load(f)\n",
    "\n",
    "results = []\n",
    "\n",
    "for index, row in test_data[\"df\"].iterrows():\n",
    "    model = test_data[\"models\"][index]\n",
    "    prefix_model = sympy_to_prefix(sympy.nsimplify(model))\n",
    "    N = get_length(prefix_model)\n",
    "    N0 = original_dataset[\"N0\"][index]\n",
    "    \n",
    "    y_pred = np.load(f\"eplex/{index}.npy\", allow_pickle=True)\n",
    "    data = np.load(os.path.join(\"dataset\", row[\"path\"]))\n",
    "    y_true = data[:, -1]\n",
    "\n",
    "    result = {\"filename\": row[\"filename\"],\n",
    "              \"number\": row[\"number\"],\n",
    "              \"formula\": original_dataset[\"Formula\"][index],\n",
    "              \"performance_score\": cp_score.performance_score(y_true, y_pred),\n",
    "              \"complexity_score\": cp_score.complexity_score(N, N0),\n",
    "              \"cp_score\": cp_score(y_true, y_pred, N, N0)}\n",
    "    results.append(result)\n",
    "\n",
    "df = pd.DataFrame(results)\n",
    "print(\"Average Performance:\", df[\"performance_score\"].mean())\n",
    "print(\"Average Complexity:\", df[\"complexity_score\"].mean())\n",
    "print(\"Average CP Score:\", df[\"cp_score\"].mean())"
   ]
  },
  {
   "cell_type": "markdown",
   "metadata": {},
   "source": [
    "# FEAT"
   ]
  },
  {
   "cell_type": "code",
   "execution_count": 6,
   "metadata": {},
   "outputs": [
    {
     "name": "stderr",
     "output_type": "stream",
     "text": [
      "/tmp/ipykernel_83679/1986828190.py:2: DeprecationWarning: numpy.core.numeric is deprecated and has been renamed to numpy._core.numeric. The numpy._core namespace contains private NumPy internals and its use is discouraged, as NumPy internals can change without warning in any release. In practice, most real-world usage of numpy.core is to access functionality in the public NumPy API. If that is the case, use the public NumPy API. If not, you are using NumPy internals. If you would still like to access an internal attribute, use numpy._core.numeric._frombuffer.\n",
      "  test_data = pickle.load(f)\n",
      "/home/aryamaan/anaconda3/envs/feat/lib/python3.10/site-packages/sklearn/metrics/_regression.py:1220: RuntimeWarning: overflow encountered in square\n",
      "  numerator = xp.sum(weight * (y_true - y_pred) ** 2, axis=0)\n",
      "/home/aryamaan/anaconda3/envs/feat/lib/python3.10/site-packages/numpy/_core/fromnumeric.py:86: RuntimeWarning: overflow encountered in reduce\n",
      "  return ufunc.reduce(obj, axis, dtype, out, **passkwargs)\n",
      "/home/aryamaan/anaconda3/envs/feat/lib/python3.10/site-packages/sklearn/metrics/_regression.py:1220: RuntimeWarning: overflow encountered in square\n",
      "  numerator = xp.sum(weight * (y_true - y_pred) ** 2, axis=0)\n",
      "/home/aryamaan/anaconda3/envs/feat/lib/python3.10/site-packages/numpy/_core/fromnumeric.py:86: RuntimeWarning: overflow encountered in reduce\n",
      "  return ufunc.reduce(obj, axis, dtype, out, **passkwargs)\n",
      "/home/aryamaan/anaconda3/envs/feat/lib/python3.10/site-packages/sklearn/utils/_array_api.py:751: RuntimeWarning: overflow encountered in cast\n",
      "  array = numpy.asarray(array, order=order, dtype=dtype)\n",
      "/home/aryamaan/anaconda3/envs/feat/lib/python3.10/site-packages/sklearn/utils/_array_api.py:751: RuntimeWarning: overflow encountered in cast\n",
      "  array = numpy.asarray(array, order=order, dtype=dtype)\n",
      "/home/aryamaan/anaconda3/envs/feat/lib/python3.10/site-packages/sklearn/metrics/_regression.py:1220: RuntimeWarning: overflow encountered in square\n",
      "  numerator = xp.sum(weight * (y_true - y_pred) ** 2, axis=0)\n",
      "/home/aryamaan/anaconda3/envs/feat/lib/python3.10/site-packages/sklearn/metrics/_regression.py:1220: RuntimeWarning: overflow encountered in square\n",
      "  numerator = xp.sum(weight * (y_true - y_pred) ** 2, axis=0)\n"
     ]
    },
    {
     "name": "stdout",
     "output_type": "stream",
     "text": [
      "Average Performance: -inf\n",
      "Average Complexity: 0.9944758685516377\n",
      "Average CP Score: -inf\n"
     ]
    }
   ],
   "source": [
    "with open(\"feat_test2.pkl\", \"rb\") as f:\n",
    "    test_data = pickle.load(f)\n",
    "\n",
    "results = []\n",
    "\n",
    "for index, row in test_data[\"df\"].iterrows():\n",
    "    model = test_data[\"models\"][index]\n",
    "    prefix_model = sympy_to_prefix(sympy.nsimplify(model))\n",
    "    N = get_length(prefix_model)\n",
    "    N0 = original_dataset[\"N0\"][index]\n",
    "    \n",
    "    y_pred = np.load(f\"feat/{index}.npy\", allow_pickle=True)\n",
    "    data = np.load(os.path.join(\"dataset\", row[\"path\"]))\n",
    "    y_true = data[:, -1]\n",
    "\n",
    "    result = {\"filename\": row[\"filename\"],\n",
    "              \"number\": row[\"number\"],\n",
    "              \"formula\": original_dataset[\"Formula\"][index],\n",
    "              \"performance_score\": cp_score.performance_score(y_true, y_pred),\n",
    "              \"complexity_score\": cp_score.complexity_score(N, N0),\n",
    "              \"cp_score\": cp_score(y_true, y_pred, N, N0)}\n",
    "    results.append(result)\n",
    "\n",
    "df = pd.DataFrame(results)\n",
    "print(\"Average Performance:\", df[\"performance_score\"].mean())\n",
    "print(\"Average Complexity:\", df[\"complexity_score\"].mean())\n",
    "print(\"Average CP Score:\", df[\"cp_score\"].mean())"
   ]
  },
  {
   "cell_type": "code",
   "execution_count": null,
   "metadata": {},
   "outputs": [],
   "source": []
  }
 ],
 "metadata": {
  "kernelspec": {
   "display_name": "base",
   "language": "python",
   "name": "python3"
  },
  "language_info": {
   "codemirror_mode": {
    "name": "ipython",
    "version": 3
   },
   "file_extension": ".py",
   "mimetype": "text/x-python",
   "name": "python",
   "nbconvert_exporter": "python",
   "pygments_lexer": "ipython3",
   "version": "3.10.14"
  }
 },
 "nbformat": 4,
 "nbformat_minor": 2
}
